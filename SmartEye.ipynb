{
  "nbformat": 4,
  "nbformat_minor": 0,
  "metadata": {
    "colab": {
      "provenance": [],
      "machine_shape": "hm",
      "gpuType": "A100",
      "authorship_tag": "ABX9TyOwcrVv2/1JpRqnj0/M7n3N",
      "include_colab_link": true
    },
    "kernelspec": {
      "name": "python3",
      "display_name": "Python 3"
    },
    "language_info": {
      "name": "python"
    },
    "accelerator": "GPU"
  },
  "cells": [
    {
      "cell_type": "markdown",
      "metadata": {
        "id": "view-in-github",
        "colab_type": "text"
      },
      "source": [
        "<a href=\"https://colab.research.google.com/github/nasku230/-traffic-sign-detection/blob/main/SmartEye.ipynb\" target=\"_parent\"><img src=\"https://colab.research.google.com/assets/colab-badge.svg\" alt=\"Open In Colab\"/></a>"
      ]
    },
    {
      "cell_type": "code",
      "execution_count": null,
      "metadata": {
        "id": "vPNx_E-Tzcwb"
      },
      "outputs": [],
      "source": [
        "!pip install ultralytics\n",
        "import ultralytics\n",
        "ultralytics.checks()"
      ]
    },
    {
      "cell_type": "code",
      "source": [
        "from google.colab import drive\n",
        "drive.mount('/content/drive')\n"
      ],
      "metadata": {
        "id": "l5B5HpI90OSd"
      },
      "execution_count": null,
      "outputs": []
    },
    {
      "cell_type": "code",
      "source": [
        "from ultralytics import YOLO\n",
        "\n",
        "# Path to your trained model\n",
        "model_path = \"/content/drive/MyDrive/YOLO_Training_Results/car_detection_run/weights/best.pt\"\n",
        "\n",
        "# Path to input video\n",
        "video_path = \"/content/drive/MyDrive/car drive.mp4\"\n",
        "\n",
        "# Optional: Output directory\n",
        "output_dir = \"/content/drive/MyDrive/YOLO_Training_Results/car_detection_run/inference\"\n"
      ],
      "metadata": {
        "id": "E_clkmpt1YQp"
      },
      "execution_count": null,
      "outputs": []
    },
    {
      "cell_type": "code",
      "source": [
        "model = YOLO(\"/content/drive/MyDrive/YOLO_Training_Results/car_detection_run/weights/best.pt\")\n",
        "\n",
        "# Run inference on the video\n",
        "model.predict(\n",
        "    source=\"/content/drive/MyDrive/car drive.mp4\",\n",
        "    save=True,\n",
        "    save_txt=True,         # Save detection labels\n",
        "    save_conf=True,        # Save confidence scores\n",
        "    project=output_dir,    # Folder where results will be saved\n",
        "    name='inference',      # Subfolder name\n",
        "    conf=0.25,             # Confidence threshold\n",
        "    vid_stride=1,          # Frame sampling\n",
        "    stream=False\n",
        ")\n"
      ],
      "metadata": {
        "id": "HWCMYtY43FI0"
      },
      "execution_count": null,
      "outputs": []
    },
    {
      "cell_type": "code",
      "source": [
        "output_path = \"/content/drive/MyDrive/yolo_output/inference/car drive.mp4\"\n",
        "\n",
        "from IPython.display import HTML\n",
        "from base64 import b64encode\n",
        "\n",
        "with open('/content/drive/MyDrive/car drive.mp4', 'rb') as f:\n",
        "    mp4 = f.read()\n",
        "data_url = \"data:video/mp4;base64,\" + b64encode(mp4).decode()\n",
        "HTML(f'<video width=600 controls><source src=\"{data_url}\" type=\"video/mp4\"></video>')\n"
      ],
      "metadata": {
        "id": "hqJf7OlW5T8f"
      },
      "execution_count": null,
      "outputs": []
    },
    {
      "cell_type": "markdown",
      "source": [
        "SmartEye: REAL-TIME TRAFFIC SIGN DETECTION FOR AUTONOMOUS VEHICLES\n",
        "\n",
        "YOLO-based detection system"
      ],
      "metadata": {
        "id": "28jdnfDfW_FA"
      }
    }
  ]
}